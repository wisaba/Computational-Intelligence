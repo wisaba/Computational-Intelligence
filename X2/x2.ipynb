{
 "cells": [
  {
   "cell_type": "code",
   "execution_count": 1,
   "metadata": {},
   "outputs": [],
   "source": [
    "import random as rd"
   ]
  },
  {
   "cell_type": "code",
   "execution_count": 2,
   "metadata": {},
   "outputs": [],
   "source": [
    "class MaxOfXSquare:\n",
    "    def __init__(self):\n",
    "        self.population = [bin(i)[2:].zfill(8) for i in range(256)]\n",
    "        rd.shuffle(self.population)\n",
    "        self.max_of_now = 0\n",
    "\n",
    "    def fitness(self, x):\n",
    "        return int(x, 2) ** 2\n",
    "\n",
    "    def cross_over(self, x1, x2):\n",
    "        t = rd.randint(0, 8)\n",
    "        child = x1[:t] + x2[t:]\n",
    "        child_int = int(child, 2)\n",
    "        child_int = min(255, max(0, child_int))\n",
    "        return format(child_int, '08b')\n",
    "\n",
    "    def mutation(self, x):\n",
    "        t = rd.randint(0, 7)\n",
    "        x = list(x)\n",
    "        #x[t] = str(rd.randint(0,1))\n",
    "        if x[t] == '0':\n",
    "            x[t] = '1'\n",
    "        else:\n",
    "            x[t] = '0'\n",
    "        new_x = int(\"\".join(x), 2)\n",
    "        new_x = min(255, max(0, new_x))\n",
    "        return format(new_x, '08b') \n",
    "\n",
    "    def Both_C_and_M(self, x):\n",
    "        population = []\n",
    "        k = 0\n",
    "        for i in range(len(x)):\n",
    "            for j in range(len(x)):\n",
    "                k += 1\n",
    "                temp = self.cross_over(x[i], x[j])\n",
    "                if k % 10 == 0:\n",
    "                    population.append(self.mutation(temp))\n",
    "                else:\n",
    "                    population.append(temp)\n",
    "        return population[:15]\n"
   ]
  },
  {
   "cell_type": "code",
   "execution_count": 3,
   "metadata": {},
   "outputs": [],
   "source": [
    "def main():\n",
    "    m = MaxOfXSquare()\n",
    "    population = m.population[:20]\n",
    "    for j in range(25):\n",
    "        population = [[m.fitness(i), i] for i in population]\n",
    "        ##print(population) agar bekhahid in comment ra pak konid ta population namayesh dade shavad\n",
    "        population = sorted(population, reverse=True)\n",
    "        elitisms = population[:7]\n",
    "        population2 = [item[1] for item in elitisms]\n",
    "        changed_list = [item[1] for item in population[5:11]]\n",
    "        changed_list = m.Both_C_and_M(changed_list)\n",
    "        population2 += changed_list\n",
    "        population = population2.copy()\n",
    "    print(\"The Best Chromosome At The End:\", population[0])\n"
   ]
  },
  {
   "cell_type": "code",
   "execution_count": 4,
   "metadata": {},
   "outputs": [
    {
     "name": "stdout",
     "output_type": "stream",
     "text": [
      "The Best Chromosome At The End: 11111101\n"
     ]
    }
   ],
   "source": [
    "if __name__ == \"__main__\":\n",
    "    main()"
   ]
  }
 ],
 "metadata": {
  "kernelspec": {
   "display_name": "Python 3",
   "language": "python",
   "name": "python3"
  },
  "language_info": {
   "codemirror_mode": {
    "name": "ipython",
    "version": 3
   },
   "file_extension": ".py",
   "mimetype": "text/x-python",
   "name": "python",
   "nbconvert_exporter": "python",
   "pygments_lexer": "ipython3",
   "version": "3.11.5"
  }
 },
 "nbformat": 4,
 "nbformat_minor": 2
}
